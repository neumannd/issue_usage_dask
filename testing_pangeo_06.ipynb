{
 "cells": [
  {
   "cell_type": "markdown",
   "metadata": {},
   "source": [
    "# load libraries"
   ]
  },
  {
   "cell_type": "code",
   "execution_count": 2,
   "metadata": {},
   "outputs": [],
   "source": [
    "import xarray as xr\n",
    "import dask\n",
    "from dask.distributed import Client, LocalCluster"
   ]
  },
  {
   "cell_type": "markdown",
   "metadata": {},
   "source": [
    "# set data file"
   ]
  },
  {
   "cell_type": "code",
   "execution_count": 7,
   "metadata": {},
   "outputs": [],
   "source": [
    "data_file = \"test_file.nc\""
   ]
  },
  {
   "cell_type": "markdown",
   "metadata": {},
   "source": [
    "# start workers"
   ]
  },
  {
   "cell_type": "code",
   "execution_count": 4,
   "metadata": {},
   "outputs": [],
   "source": [
    "client = Client(n_workers=2, threads_per_worker=1,\n",
    "                memory_limit='350MB', dashboard_address=':8787')"
   ]
  },
  {
   "cell_type": "code",
   "execution_count": 5,
   "metadata": {},
   "outputs": [
    {
     "data": {
      "text/html": [
       "<table style=\"border: 2px solid white;\">\n",
       "<tr>\n",
       "<td style=\"vertical-align: top; border: 0px solid white\">\n",
       "<h3 style=\"text-align: left;\">Client</h3>\n",
       "<ul style=\"text-align: left; list-style: none; margin: 0; padding: 0;\">\n",
       "  <li><b>Scheduler: </b>tcp://127.0.0.1:44699</li>\n",
       "  <li><b>Dashboard: </b><a href='http://127.0.0.1:8787/status' target='_blank'>http://127.0.0.1:8787/status</a>\n",
       "</ul>\n",
       "</td>\n",
       "<td style=\"vertical-align: top; border: 0px solid white\">\n",
       "<h3 style=\"text-align: left;\">Cluster</h3>\n",
       "<ul style=\"text-align: left; list-style:none; margin: 0; padding: 0;\">\n",
       "  <li><b>Workers: </b>2</li>\n",
       "  <li><b>Cores: </b>2</li>\n",
       "  <li><b>Memory: </b>700.00 MB</li>\n",
       "</ul>\n",
       "</td>\n",
       "</tr>\n",
       "</table>"
      ],
      "text/plain": [
       "<Client: scheduler='tcp://127.0.0.1:44699' processes=2 cores=2>"
      ]
     },
     "execution_count": 5,
     "metadata": {},
     "output_type": "execute_result"
    }
   ],
   "source": [
    "client"
   ]
  },
  {
   "cell_type": "code",
   "execution_count": null,
   "metadata": {},
   "outputs": [],
   "source": [
    "# client.close()"
   ]
  },
  {
   "cell_type": "markdown",
   "metadata": {},
   "source": [
    "# open data"
   ]
  },
  {
   "cell_type": "code",
   "execution_count": 28,
   "metadata": {},
   "outputs": [],
   "source": [
    "# open and have a look\n",
    "## ds = xr.open_dataset(data_file)\n",
    "## ds"
   ]
  },
  {
   "cell_type": "code",
   "execution_count": 8,
   "metadata": {},
   "outputs": [
    {
     "data": {
      "text/plain": [
       "<xarray.Dataset>\n",
       "Dimensions:          (nv: 2, st_ocean: 152, time: 12, xt_ocean: 224, yt_ocean: 242)\n",
       "Coordinates:\n",
       "  * xt_ocean         (xt_ocean) float64 8.283 8.383 8.483 ... 30.38 30.48 30.58\n",
       "  * yt_ocean         (yt_ocean) float64 53.86 53.91 53.96 ... 65.81 65.86 65.91\n",
       "  * time             (time) object 2012-01-16 12:00:00 ... 2012-12-16 12:00:00\n",
       "  * st_ocean         (st_ocean) float64 0.25 0.7508 1.257 ... 263.0 265.0 267.0\n",
       "Dimensions without coordinates: nv\n",
       "Data variables:\n",
       "    st_ocean_bounds  (st_ocean, nv) float64 dask.array<chunksize=(152, 2), meta=np.ndarray>\n",
       "    t_zoo            (time, st_ocean, yt_ocean, xt_ocean) float32 dask.array<chunksize=(12, 152, 242, 112), meta=np.ndarray>\n",
       "    time_bounds      (time, nv) object dask.array<chunksize=(12, 2), meta=np.ndarray>\n",
       "Attributes:\n",
       "    Conventions:     CF-1.7\n",
       "    institution:     Leibniz Institute for Baltic Sea Research Warnemuende, P...\n",
       "    title:           Biogeochemical and basic physical state variables calcul...\n",
       "    acknowledgment:  The project MeRamo is supported by BMVI Grand 50EW1601 w...\n",
       "    summary:         Standard MOM-ERGOM Model run over the Baltic Sea for the...\n",
       "    history:         Fri Nov 15 20:53:09 2019: ncatted -a grid_type,global,d,...\n",
       "    NCO:             4.7.2"
      ]
     },
     "execution_count": 8,
     "metadata": {},
     "output_type": "execute_result"
    }
   ],
   "source": [
    "ds = xr.open_dataset(data_file, chunks = {\"xt_ocean\": 112, \"yt_ocean\": 242})\n",
    "ds"
   ]
  },
  {
   "cell_type": "code",
   "execution_count": 10,
   "metadata": {},
   "outputs": [
    {
     "data": {
      "text/html": [
       "<table>\n",
       "<tr>\n",
       "<td>\n",
       "<table>\n",
       "  <thead>\n",
       "    <tr><td> </td><th> Array </th><th> Chunk </th></tr>\n",
       "  </thead>\n",
       "  <tbody>\n",
       "    <tr><th> Bytes </th><td> 395.50 MB </td> <td> 197.75 MB </td></tr>\n",
       "    <tr><th> Shape </th><td> (12, 152, 242, 224) </td> <td> (12, 152, 242, 112) </td></tr>\n",
       "    <tr><th> Count </th><td> 3 Tasks </td><td> 2 Chunks </td></tr>\n",
       "    <tr><th> Type </th><td> float32 </td><td> numpy.ndarray </td></tr>\n",
       "  </tbody>\n",
       "</table>\n",
       "</td>\n",
       "<td>\n",
       "<svg width=\"413\" height=\"214\" style=\"stroke:rgb(0,0,0);stroke-width:1\" >\n",
       "\n",
       "  <!-- Horizontal lines -->\n",
       "  <line x1=\"0\" y1=\"0\" x2=\"34\" y2=\"0\" style=\"stroke-width:2\" />\n",
       "  <line x1=\"0\" y1=\"25\" x2=\"34\" y2=\"25\" style=\"stroke-width:2\" />\n",
       "\n",
       "  <!-- Vertical lines -->\n",
       "  <line x1=\"0\" y1=\"0\" x2=\"0\" y2=\"25\" style=\"stroke-width:2\" />\n",
       "  <line x1=\"34\" y1=\"0\" x2=\"34\" y2=\"25\" style=\"stroke-width:2\" />\n",
       "\n",
       "  <!-- Colored Rectangle -->\n",
       "  <polygon points=\"0.000000,0.000000 34.450197,0.000000 34.450197,25.412617 0.000000,25.412617\" style=\"fill:#ECB172A0;stroke-width:0\"/>\n",
       "\n",
       "  <!-- Text -->\n",
       "  <text x=\"17.225098\" y=\"45.412617\" font-size=\"1.0rem\" font-weight=\"100\" text-anchor=\"middle\" >12</text>\n",
       "  <text x=\"54.450197\" y=\"12.706308\" font-size=\"1.0rem\" font-weight=\"100\" text-anchor=\"middle\" transform=\"rotate(0,54.450197,12.706308)\">1</text>\n",
       "\n",
       "\n",
       "  <!-- Horizontal lines -->\n",
       "  <line x1=\"104\" y1=\"0\" x2=\"148\" y2=\"44\" style=\"stroke-width:2\" />\n",
       "  <line x1=\"104\" y1=\"120\" x2=\"148\" y2=\"164\" style=\"stroke-width:2\" />\n",
       "\n",
       "  <!-- Vertical lines -->\n",
       "  <line x1=\"104\" y1=\"0\" x2=\"104\" y2=\"120\" style=\"stroke-width:2\" />\n",
       "  <line x1=\"148\" y1=\"44\" x2=\"148\" y2=\"164\" style=\"stroke-width:2\" />\n",
       "\n",
       "  <!-- Colored Rectangle -->\n",
       "  <polygon points=\"104.000000,0.000000 148.336412,44.336412 148.336412,164.336412 104.000000,120.000000\" style=\"fill:#ECB172A0;stroke-width:0\"/>\n",
       "\n",
       "  <!-- Horizontal lines -->\n",
       "  <line x1=\"104\" y1=\"0\" x2=\"215\" y2=\"0\" style=\"stroke-width:2\" />\n",
       "  <line x1=\"148\" y1=\"44\" x2=\"259\" y2=\"44\" style=\"stroke-width:2\" />\n",
       "\n",
       "  <!-- Vertical lines -->\n",
       "  <line x1=\"104\" y1=\"0\" x2=\"148\" y2=\"44\" style=\"stroke-width:2\" />\n",
       "  <line x1=\"159\" y1=\"0\" x2=\"203\" y2=\"44\" />\n",
       "  <line x1=\"215\" y1=\"0\" x2=\"259\" y2=\"44\" style=\"stroke-width:2\" />\n",
       "\n",
       "  <!-- Colored Rectangle -->\n",
       "  <polygon points=\"104.000000,0.000000 215.074380,0.000000 259.410792,44.336412 148.336412,44.336412\" style=\"fill:#ECB172A0;stroke-width:0\"/>\n",
       "\n",
       "  <!-- Horizontal lines -->\n",
       "  <line x1=\"148\" y1=\"44\" x2=\"259\" y2=\"44\" style=\"stroke-width:2\" />\n",
       "  <line x1=\"148\" y1=\"164\" x2=\"259\" y2=\"164\" style=\"stroke-width:2\" />\n",
       "\n",
       "  <!-- Vertical lines -->\n",
       "  <line x1=\"148\" y1=\"44\" x2=\"148\" y2=\"164\" style=\"stroke-width:2\" />\n",
       "  <line x1=\"203\" y1=\"44\" x2=\"203\" y2=\"164\" />\n",
       "  <line x1=\"259\" y1=\"44\" x2=\"259\" y2=\"164\" style=\"stroke-width:2\" />\n",
       "\n",
       "  <!-- Colored Rectangle -->\n",
       "  <polygon points=\"148.336412,44.336412 259.410792,44.336412 259.410792,164.336412 148.336412,164.336412\" style=\"fill:#ECB172A0;stroke-width:0\"/>\n",
       "\n",
       "  <!-- Text -->\n",
       "  <text x=\"203.873602\" y=\"184.336412\" font-size=\"1.0rem\" font-weight=\"100\" text-anchor=\"middle\" >224</text>\n",
       "  <text x=\"279.410792\" y=\"104.336412\" font-size=\"1.0rem\" font-weight=\"100\" text-anchor=\"middle\" transform=\"rotate(-90,279.410792,104.336412)\">242</text>\n",
       "  <text x=\"116.168206\" y=\"162.168206\" font-size=\"1.0rem\" font-weight=\"100\" text-anchor=\"middle\" transform=\"rotate(45,116.168206,162.168206)\">152</text>\n",
       "</svg>\n",
       "</td>\n",
       "</tr>\n",
       "</table>"
      ],
      "text/plain": [
       "dask.array<open_dataset-e21f5f3e7e803e36a0459057b061871ct_zoo, shape=(12, 152, 242, 224), dtype=float32, chunksize=(12, 152, 242, 112)>"
      ]
     },
     "execution_count": 10,
     "metadata": {},
     "output_type": "execute_result"
    }
   ],
   "source": [
    "ds.t_zoo.data"
   ]
  },
  {
   "cell_type": "code",
   "execution_count": 17,
   "metadata": {},
   "outputs": [],
   "source": [
    "t_zoo = ds.t_zoo"
   ]
  },
  {
   "cell_type": "code",
   "execution_count": 29,
   "metadata": {},
   "outputs": [],
   "source": [
    "# client.scatter(t_zoo, workers = ['localhost:39661', 'localhost:34049'])"
   ]
  },
  {
   "cell_type": "markdown",
   "metadata": {},
   "source": [
    "# processing data"
   ]
  },
  {
   "cell_type": "code",
   "execution_count": 26,
   "metadata": {},
   "outputs": [
    {
     "data": {
      "text/plain": [
       "<xarray.DataArray 't_zoo' (st_ocean: 152, yt_ocean: 242, xt_ocean: 224)>\n",
       "dask.array<mean_agg-aggregate, shape=(152, 242, 224), dtype=float32, chunksize=(152, 242, 112)>\n",
       "Coordinates:\n",
       "  * xt_ocean  (xt_ocean) float64 8.283 8.383 8.483 8.583 ... 30.38 30.48 30.58\n",
       "  * yt_ocean  (yt_ocean) float64 53.86 53.91 53.96 54.01 ... 65.81 65.86 65.91\n",
       "  * st_ocean  (st_ocean) float64 0.25 0.7508 1.257 1.771 ... 263.0 265.0 267.0"
      ]
     },
     "execution_count": 26,
     "metadata": {},
     "output_type": "execute_result"
    }
   ],
   "source": [
    "zoo_mean_delay = t_zoo.mean(dim = 'time')\n",
    "zoo_mean_delay"
   ]
  },
  {
   "cell_type": "code",
   "execution_count": 27,
   "metadata": {},
   "outputs": [
    {
     "name": "stderr",
     "output_type": "stream",
     "text": [
      "distributed.nanny - WARNING - Worker exceeded 95% memory budget. Restarting\n",
      "distributed.nanny - WARNING - Restarting worker\n",
      "distributed.nanny - WARNING - Worker exceeded 95% memory budget. Restarting\n",
      "distributed.nanny - WARNING - Restarting worker\n",
      "distributed.nanny - WARNING - Worker exceeded 95% memory budget. Restarting\n",
      "distributed.nanny - WARNING - Restarting worker\n",
      "distributed.nanny - WARNING - Worker exceeded 95% memory budget. Restarting\n",
      "distributed.nanny - WARNING - Restarting worker\n",
      "\n",
      "KeyboardInterrupt\n",
      "\n",
      "distributed.nanny - WARNING - Restarting worker\n"
     ]
    }
   ],
   "source": [
    "zoo_mean_comp = zoo_mean_delay.compute(workers = ['localhost:39661', 'localhost:34049'])"
   ]
  }
 ],
 "metadata": {
  "kernelspec": {
   "display_name": "Python 3",
   "language": "python",
   "name": "python3"
  },
  "language_info": {
   "codemirror_mode": {
    "name": "ipython",
    "version": 3
   },
   "file_extension": ".py",
   "mimetype": "text/x-python",
   "name": "python",
   "nbconvert_exporter": "python",
   "pygments_lexer": "ipython3",
   "version": "3.7.4"
  }
 },
 "nbformat": 4,
 "nbformat_minor": 2
}
